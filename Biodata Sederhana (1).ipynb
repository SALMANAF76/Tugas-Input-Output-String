{
 "cells": [
  {
   "cell_type": "markdown",
   "id": "c386e3d5-27ee-49dd-8523-693b2a6f2d7f",
   "metadata": {},
   "source": [
    "<h1> Buatlah biodata sederhana dengan menggunakan fungsi input(), dan output variabel dengan fungsi format() <h1>\n"
   ]
  },
  {
   "cell_type": "code",
   "execution_count": 2,
   "id": "7cd24596-ea87-4e69-8a50-a6714cb5addf",
   "metadata": {},
   "outputs": [
    {
     "name": "stdin",
     "output_type": "stream",
     "text": [
      "masukan nama :  SALMAN\n",
      "masukan umur :  19\n",
      "masukan kelas :  TI23J\n",
      "masukan alamat :  KP BABAKAN RT1 RW9\n"
     ]
    },
    {
     "name": "stdout",
     "output_type": "stream",
     "text": [
      "\n",
      " Nama : SALMAN \n",
      " \n",
      " Umur : 19\n",
      " \n",
      " Kelas : TI23J \n",
      " \n",
      " Alamat : KP BABAKAN RT1 RW9 \n",
      "\n"
     ]
    }
   ],
   "source": [
    "nama = input('masukan nama : ')\n",
    "umur = input('masukan umur : ')\n",
    "kelas = input('masukan kelas : ')\n",
    "alamat = input('masukan alamat : ')\n",
    "\n",
    "biodata = \"\\n Nama : {} \\n \\n Umur : {}\\n \\n Kelas : {} \\n \\n Alamat : {} \\n\".format(nama,int(umur),kelas,alamat) \n",
    "\n",
    "print(biodata)\n"
   ]
  },
  {
   "cell_type": "code",
   "execution_count": null,
   "id": "9b080c52-152a-461c-b845-3bffe20c1a6e",
   "metadata": {},
   "outputs": [],
   "source": []
  }
 ],
 "metadata": {
  "kernelspec": {
   "display_name": "Python 3 (ipykernel)",
   "language": "python",
   "name": "python3"
  },
  "language_info": {
   "codemirror_mode": {
    "name": "ipython",
    "version": 3
   },
   "file_extension": ".py",
   "mimetype": "text/x-python",
   "name": "python",
   "nbconvert_exporter": "python",
   "pygments_lexer": "ipython3",
   "version": "3.11.7"
  }
 },
 "nbformat": 4,
 "nbformat_minor": 5
}
