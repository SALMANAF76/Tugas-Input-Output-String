{
 "cells": [
  {
   "cell_type": "markdown",
   "id": "56779286-0a25-4b8e-99a5-dda7bf275470",
   "metadata": {},
   "source": [
    "<h1>Jika terdapat kalimat UNIVERSITAS NUSA PUTRA SUKABUMI ,buatlah kode program untuk menampilkan output:\n",
    "putra nusa, NIVERSITAS NSA PTRA SKABMI, SUKABUMI PUTRA NUSA UNIVERSITAS, UNPS, TAS SAPU BUMI <h1>\n"
   ]
  },
  {
   "cell_type": "code",
   "execution_count": 2,
   "id": "a9c412e6-fd67-41dc-94dc-42294cf3b281",
   "metadata": {},
   "outputs": [
    {
     "name": "stdout",
     "output_type": "stream",
     "text": [
      "PUTRA NUSA\n",
      "UNIVERSITA USA  P TRA  UKABUMI \n",
      "['SUKABUMI', 'PUTRA', 'NUSA', 'UNIVERSITAS']\n",
      "U N P S\n",
      "TAS PUTRA SUKABUMI\n"
     ]
    }
   ],
   "source": [
    "kalimat = \" UNIVERSITAS NUSA PUTRA SUKABUMI \"\n",
    "\n",
    "#MENGAMBIL KATA (PUTRA NUSA)\n",
    "kata_pertama = kalimat.split()[2] + \" \" + kalimat.split()[1]\n",
    "print(kata_pertama)\n",
    "\n",
    "#MENGAMBIL KATA (NIVERSITAS NSA PTRA SKABMI)\n",
    "kata_kedua = kalimat[1:11] + \" \" + kalimat[14:18] + \" \" + kalimat[18] + \" \" + kalimat[20:24] + \" \" + kalimat[25:]\n",
    "print(kata_kedua)\n",
    "\n",
    "#MENGAMBIL KATA (SUKABUMI PUTRA NUSA UNIVERSITAS)\n",
    "kata_ketiga = kalimat.split()[::-1] \n",
    "print(kata_ketiga)\n",
    "\n",
    "#MENGAMBIL KATA (UNPS)\n",
    "kata_keempat = kalimat.split()[0][0] + \" \" + kalimat.split()[1][0] + \" \" + kalimat.split()[2][0] + \" \" + kalimat.split()[3][0]\n",
    "print(kata_keempat)\n",
    "\n",
    "#MENGAMBIL KATA (TAS SAPU BUMI )\n",
    "kata_kelima = kalimat.split()[0][-3:] + \" \" + kalimat.split()[2] + \" \" + kalimat.split()[-1]\n",
    "print(kata_kelima)"
   ]
  },
  {
   "cell_type": "code",
   "execution_count": null,
   "id": "3f8f7ec5-620e-4b58-ad57-75c1a6d8f267",
   "metadata": {},
   "outputs": [],
   "source": []
  }
 ],
 "metadata": {
  "kernelspec": {
   "display_name": "Python 3 (ipykernel)",
   "language": "python",
   "name": "python3"
  },
  "language_info": {
   "codemirror_mode": {
    "name": "ipython",
    "version": 3
   },
   "file_extension": ".py",
   "mimetype": "text/x-python",
   "name": "python",
   "nbconvert_exporter": "python",
   "pygments_lexer": "ipython3",
   "version": "3.11.7"
  }
 },
 "nbformat": 4,
 "nbformat_minor": 5
}
